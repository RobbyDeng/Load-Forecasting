{
 "cells": [
  {
   "cell_type": "code",
   "execution_count": 11,
   "metadata": {},
   "outputs": [],
   "source": [
    "import pandas as pd\n",
    "import numpy as np"
   ]
  },
  {
   "cell_type": "code",
   "execution_count": 12,
   "metadata": {},
   "outputs": [],
   "source": [
    "df=pd.read_csv('/Users/dengyiran/Downloads/T_train_data.csv')"
   ]
  },
  {
   "cell_type": "code",
   "execution_count": 3,
   "metadata": {},
   "outputs": [],
   "source": [
    "length = len(df)"
   ]
  },
  {
   "cell_type": "code",
   "execution_count": 4,
   "metadata": {},
   "outputs": [],
   "source": [
    "date,year,month,day,hour = [],[],[],[],[]\n",
    "temperature = []\n",
    "for i in range(length*24):\n",
    "    date.append('')\n",
    "    date[i]= df['date'][int(i/24)]\n",
    "    year.append(int(str('19'+date[i][6:])))\n",
    "    month.append(int(date[i][:2]))\n",
    "    day.append(int(date[i][3:5]))\n",
    "    date[i]=str(year[i])+'/'+str(month[i])+'/'+str(day[i])\n",
    "    hour.append((i%24)+1)\n",
    "    temperature.append(df[str(i%24+1)][int(i/24)])"
   ]
  },
  {
   "cell_type": "code",
   "execution_count": 5,
   "metadata": {},
   "outputs": [],
   "source": [
    "weekday = []\n",
    "for i in range(length*24):\n",
    "#     01/01/88 is a Friday\n",
    "    weekday.append((int(i/24)+5)%7)\n",
    "    if(weekday[i] == 0):\n",
    "        weekday[i]=7"
   ]
  },
  {
   "cell_type": "code",
   "execution_count": 6,
   "metadata": {},
   "outputs": [],
   "source": [
    "df2=pd.read_csv('/Users/dengyiran/Downloads/L_train_data.csv')"
   ]
  },
  {
   "cell_type": "code",
   "execution_count": 7,
   "metadata": {},
   "outputs": [],
   "source": [
    "demand = []\n",
    "for i in range(length*24):\n",
    "    demand.append(df2[str(i%24+1)][int(i/24)])"
   ]
  },
  {
   "cell_type": "code",
   "execution_count": 8,
   "metadata": {},
   "outputs": [],
   "source": [
    "train_data = pd.DataFrame({'date':date,'year':year,'month':month,'day':day,'weekday':weekday,'hour':hour,\n",
    "                           'demand':demand,'temperature':temperature})"
   ]
  },
  {
   "cell_type": "code",
   "execution_count": 10,
   "metadata": {},
   "outputs": [],
   "source": [
    "train_data.to_csv(\"/Users/dengyiran/Downloads/train_data.csv\",index=False)"
   ]
  },
  {
   "cell_type": "code",
   "execution_count": null,
   "metadata": {},
   "outputs": [],
   "source": []
  }
 ],
 "metadata": {
  "kernelspec": {
   "display_name": "Python 3",
   "language": "python",
   "name": "python3"
  },
  "language_info": {
   "codemirror_mode": {
    "name": "ipython",
    "version": 3
   },
   "file_extension": ".py",
   "mimetype": "text/x-python",
   "name": "python",
   "nbconvert_exporter": "python",
   "pygments_lexer": "ipython3",
   "version": "3.6.9"
  }
 },
 "nbformat": 4,
 "nbformat_minor": 2
}
